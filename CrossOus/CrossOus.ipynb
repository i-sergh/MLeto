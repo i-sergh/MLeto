{
 "cells": [
  {
   "cell_type": "code",
   "execution_count": 1,
   "id": "dd800fd4",
   "metadata": {},
   "outputs": [],
   "source": [
    "import numpy as np\n",
    "import matplotlib.pyplot as plt\n",
    "from random import randint"
   ]
  },
  {
   "cell_type": "code",
   "execution_count": 2,
   "id": "0049782f",
   "metadata": {},
   "outputs": [],
   "source": [
    "from matplotlib.colors import ListedColormap"
   ]
  },
  {
   "cell_type": "code",
   "execution_count": 3,
   "id": "4347b12b",
   "metadata": {},
   "outputs": [],
   "source": [
    "from IPython.display import display\n",
    "from ipywidgets import IntSlider"
   ]
  },
  {
   "cell_type": "code",
   "execution_count": 4,
   "id": "ab5237cd",
   "metadata": {},
   "outputs": [],
   "source": [
    "from sklearn.model_selection import train_test_split"
   ]
  },
  {
   "cell_type": "code",
   "execution_count": 125,
   "id": "0cb6aef1",
   "metadata": {},
   "outputs": [],
   "source": [
    "import cv2"
   ]
  },
  {
   "cell_type": "code",
   "execution_count": 5,
   "id": "a7ac3610",
   "metadata": {},
   "outputs": [],
   "source": [
    "class AdaLineGD:\n",
    "    def __init__(self, eta=0.01, n_iter=50, random_state=1):\n",
    "        self.eta = eta\n",
    "        self.n_iter = n_iter\n",
    "        self.random_state = random_state\n",
    "    \n",
    "    def fit(self, X, y):\n",
    "        rgen = np.random.RandomState(self.random_state)\n",
    "        self.w_ = rgen.normal(loc=0.0,scale=0.01, size= 1 + X.shape[1])\n",
    "\n",
    "        self.cost_ = []\n",
    "        \n",
    "        for i in  range(self.n_iter ):\n",
    "            net_input = self.net_input(X)\n",
    "            output = self.activation(net_input)\n",
    "            errors = y - output\n",
    "            self.w_[1:] += self.eta * X.T.dot(errors) \n",
    "            self.w_[0] += self.eta * errors.sum()\n",
    "            cost = (errors**2).sum() / 2.0\n",
    "            \n",
    "            self.cost_.append(cost)\n",
    "        \n",
    "    def net_input(self, X):\n",
    "        return np.dot(X, self.w_[1:]) + self.w_[0] # w_[0] нейрон смещения\n",
    "    def activation(self, X):\n",
    "        return X\n",
    "        #return 1.0 / (1.0 + np.exp(- X ))\n",
    "    def predict(self, X):\n",
    "        return np.where(self.activation(self.net_input(X)) >= 0.0, 1, -1)"
   ]
  },
  {
   "cell_type": "markdown",
   "id": "bee0e5f7",
   "metadata": {},
   "source": [
    "### Начнем с чего-то по проще\n",
    "\n",
    "#### Научим персептрон понимать, может ли он ставить крест"
   ]
  },
  {
   "cell_type": "code",
   "execution_count": 16,
   "id": "6d5a54a7",
   "metadata": {},
   "outputs": [],
   "source": [
    "X = np.array([\n",
    "    [0,0,0],\n",
    "    [0,0,1],\n",
    "    [0,1,0],\n",
    "    [0,1,1],\n",
    "    [1,0,0],\n",
    "    [1,0,1],\n",
    "    [1,1,0],\n",
    "    [1,1,1],\n",
    "    \n",
    "])\n",
    "\n",
    "y1 =  np.array([1,1,1,1, -1,-1,-1,-1])\n",
    "\n",
    "y2 = np.array([1,1, -1,-1, 1,1, -1,-1])\n",
    "\n",
    "y3 = np.array([1, -1, 1, -1, 1, -1, 1, -1])"
   ]
  },
  {
   "cell_type": "code",
   "execution_count": 17,
   "id": "729a410c",
   "metadata": {},
   "outputs": [
    {
     "data": {
      "text/plain": [
       "array([[1, 0, 1],\n",
       "       [0, 1, 1]])"
      ]
     },
     "execution_count": 17,
     "metadata": {},
     "output_type": "execute_result"
    }
   ],
   "source": [
    "X_train1, X_test1, y_train1, y_test1 = train_test_split(X, y1, test_size = 0.2, random_state=1, stratify=y1 )\n",
    "X_test1"
   ]
  },
  {
   "cell_type": "code",
   "execution_count": 18,
   "id": "40c690dc",
   "metadata": {},
   "outputs": [
    {
     "data": {
      "text/plain": [
       "array([[0, 1, 1],\n",
       "       [1, 0, 1]])"
      ]
     },
     "execution_count": 18,
     "metadata": {},
     "output_type": "execute_result"
    }
   ],
   "source": [
    "X_train2, X_test2, y_train2, y_test2 = train_test_split(X, y2, test_size = 0.2, random_state=1, stratify=y2 )\n",
    "X_test2"
   ]
  },
  {
   "cell_type": "code",
   "execution_count": 19,
   "id": "9a73568c",
   "metadata": {},
   "outputs": [
    {
     "data": {
      "text/plain": [
       "array([[0, 1, 1],\n",
       "       [1, 1, 0]])"
      ]
     },
     "execution_count": 19,
     "metadata": {},
     "output_type": "execute_result"
    }
   ],
   "source": [
    "X_train3, X_test3, y_train3, y_test3 = train_test_split(X, y3, test_size = 0.2, random_state=1, stratify=y3 )\n",
    "X_test3\n"
   ]
  },
  {
   "cell_type": "code",
   "execution_count": 20,
   "id": "1bec7472",
   "metadata": {},
   "outputs": [],
   "source": [
    "ada1 = AdaLineGD( eta=0.01, n_iter=100, random_state=1)\n",
    "ada2 = AdaLineGD( eta=0.01, n_iter=100, random_state=1)\n",
    "ada3 = AdaLineGD( eta=0.01, n_iter=100, random_state=1)"
   ]
  },
  {
   "cell_type": "code",
   "execution_count": 21,
   "id": "ab51d480",
   "metadata": {},
   "outputs": [
    {
     "data": {
      "image/png": "[encoded data removed]",
      "text/plain": [
       "<Figure size 432x288 with 1 Axes>"
      ]
     },
     "metadata": {
      "needs_background": "light"
     },
     "output_type": "display_data"
    }
   ],
   "source": [
    "ada1.fit(X_train1, y_train1)\n",
    "plt.plot(range(1, len(ada1.cost_)+ 1), ada1.cost_, marker='o' )\n",
    "plt.show()"
   ]
  },
  {
   "cell_type": "code",
   "execution_count": 22,
   "id": "b1293d89",
   "metadata": {},
   "outputs": [
    {
     "data": {
      "image/png": "[encoded data removed]",
      "text/plain": [
       "<Figure size 432x288 with 1 Axes>"
      ]
     },
     "metadata": {
      "needs_background": "light"
     },
     "output_type": "display_data"
    }
   ],
   "source": [
    "ada2.fit(X_train2, y_train2)\n",
    "plt.plot(range(1, len(ada2.cost_)+ 1), ada2.cost_, marker='o' )\n",
    "plt.show()"
   ]
  },
  {
   "cell_type": "code",
   "execution_count": 23,
   "id": "1a5e80b3",
   "metadata": {},
   "outputs": [
    {
     "data": {
      "image/png": "[encoded data removed]",
      "text/plain": [
       "<Figure size 432x288 with 1 Axes>"
      ]
     },
     "metadata": {
      "needs_background": "light"
     },
     "output_type": "display_data"
    }
   ],
   "source": [
    "ada3.fit(X_train3, y_train3)\n",
    "plt.plot(range(1, len(ada3.cost_)+ 1), ada3.cost_, marker='o' )\n",
    "plt.show()"
   ]
  },
  {
   "cell_type": "markdown",
   "id": "cb8ceeab",
   "metadata": {},
   "source": [
    "## Проверяем и.."
   ]
  },
  {
   "cell_type": "code",
   "execution_count": 200,
   "id": "d082589f",
   "metadata": {},
   "outputs": [
    {
     "data": {
      "text/plain": [
       "array(-1)"
      ]
     },
     "execution_count": 200,
     "metadata": {},
     "output_type": "execute_result"
    }
   ],
   "source": [
    "ada3.predict([1, 0, 1])"
   ]
  },
  {
   "cell_type": "code",
   "execution_count": 25,
   "id": "11de19ca",
   "metadata": {},
   "outputs": [
    {
     "data": {
      "text/plain": [
       "array([ 0.64264811, -0.10946316,  0.10802549, -1.37908667])"
      ]
     },
     "execution_count": 25,
     "metadata": {},
     "output_type": "execute_result"
    }
   ],
   "source": [
    "ada3.w_"
   ]
  },
  {
   "cell_type": "markdown",
   "id": "0303e011",
   "metadata": {},
   "source": [
    "# Работает!"
   ]
  },
  {
   "cell_type": "markdown",
   "id": "e27f7fca",
   "metadata": {},
   "source": [
    "##  Модифицируем, приблизя к реальной задаче\n",
    "\n",
    "\n",
    "#### Напомню, задача: ставить -1 там, где положительные числа"
   ]
  },
  {
   "cell_type": "code",
   "execution_count": 242,
   "id": "73681db5",
   "metadata": {},
   "outputs": [
    {
     "data": {
      "text/plain": [
       "array([[-1, -1, -1],\n",
       "       [-1, -1,  1],\n",
       "       [-1,  1, -1],\n",
       "       [-1,  1,  1],\n",
       "       [ 1, -1, -1],\n",
       "       [ 1, -1,  1],\n",
       "       [ 1,  1, -1],\n",
       "       [ 1,  1,  1],\n",
       "       [-1, -1,  2],\n",
       "       [-1,  2, -1],\n",
       "       [-1,  2,  2],\n",
       "       [ 2, -1, -1],\n",
       "       [ 2, -1,  2],\n",
       "       [ 2,  2, -1],\n",
       "       [ 2,  2,  2]])"
      ]
     },
     "execution_count": 242,
     "metadata": {},
     "output_type": "execute_result"
    }
   ],
   "source": [
    "X = np.array([\n",
    "    [0,0,0],\n",
    "    [0,0,1],\n",
    "    [0,1,0],\n",
    "    [0,1,1],\n",
    "    [1,0,0],\n",
    "    [1,0,1],\n",
    "    [1,1,0],\n",
    "    [1,1,1],\n",
    "    \n",
    "    [0,0,-1],\n",
    "    [0,-1,0],\n",
    "    [0,-1,-1],\n",
    "    [-1,0,0],\n",
    "    [-1,0,-1],\n",
    "    [-1,-1,0],\n",
    "    [-1,-1,-1],\n",
    "    \n",
    "])\n",
    "X = np.where(X == -1, 2, X)\n",
    "X = np.where(X == 0, -1, X)\n",
    "y1 =  np.array([1,1,1,1, -1,-1,-1,-1,       1,1,1, -1,-1,-1,-1])\n",
    "\n",
    "y2 = np.array([1,1, -1,-1, 1,1, -1,-1, 1,   -1,-1, 1,1, -1,-1])\n",
    "\n",
    "y3 = np.array([1, -1, 1, -1, 1, -1, 1, -1,    -1, 1, -1, 1, -1, 1, -1])\n",
    "X"
   ]
  },
  {
   "cell_type": "markdown",
   "id": "150c7d48",
   "metadata": {},
   "source": [
    "### Размерность тестовой выботки можно уменьшить, но это не обязательно"
   ]
  },
  {
   "cell_type": "code",
   "execution_count": 243,
   "id": "44977933",
   "metadata": {},
   "outputs": [
    {
     "data": {
      "text/plain": [
       "array([[-1,  2, -1],\n",
       "       [ 2, -1,  2]])"
      ]
     },
     "execution_count": 243,
     "metadata": {},
     "output_type": "execute_result"
    }
   ],
   "source": [
    "X_train1, X_test1, y_train1, y_test1 = train_test_split(X, y1, test_size = 0.1, random_state=1, stratify=y1 )\n",
    "X_test1"
   ]
  },
  {
   "cell_type": "code",
   "execution_count": 244,
   "id": "b98f1124",
   "metadata": {},
   "outputs": [
    {
     "data": {
      "text/plain": [
       "array([[ 2, -1, -1],\n",
       "       [-1,  2,  2]])"
      ]
     },
     "execution_count": 244,
     "metadata": {},
     "output_type": "execute_result"
    }
   ],
   "source": [
    "X_train2, X_test2, y_train2, y_test2 = train_test_split(X, y2, test_size = 0.1, random_state=1, stratify=y2 )\n",
    "X_test2"
   ]
  },
  {
   "cell_type": "code",
   "execution_count": 245,
   "id": "4b1e6fc0",
   "metadata": {},
   "outputs": [
    {
     "data": {
      "text/plain": [
       "array([[ 2, -1, -1],\n",
       "       [-1,  2,  2]])"
      ]
     },
     "execution_count": 245,
     "metadata": {},
     "output_type": "execute_result"
    }
   ],
   "source": [
    "X_train3, X_test3, y_train3, y_test3 = train_test_split(X, y3, test_size = 0.1, random_state=1, stratify=y3 )\n",
    "X_test3"
   ]
  },
  {
   "cell_type": "code",
   "execution_count": 253,
   "id": "d0047536",
   "metadata": {},
   "outputs": [],
   "source": [
    "ada1 = AdaLineGD( eta=0.01, n_iter=30, random_state=1)\n",
    "ada2 = AdaLineGD( eta=0.01, n_iter=30, random_state=1)\n",
    "ada3 = AdaLineGD( eta=0.01, n_iter=30, random_state=1)"
   ]
  },
  {
   "cell_type": "code",
   "execution_count": 254,
   "id": "b839eaa5",
   "metadata": {},
   "outputs": [
    {
     "data": {
      "image/png": "[encoded data removed]",
      "text/plain": [
       "<Figure size 432x288 with 1 Axes>"
      ]
     },
     "metadata": {
      "needs_background": "light"
     },
     "output_type": "display_data"
    }
   ],
   "source": [
    "ada1.fit(X_train1, y_train1)\n",
    "plt.plot(range(1, len(ada1.cost_)+ 1), ada1.cost_, marker='o' )\n",
    "plt.show()"
   ]
  },
  {
   "cell_type": "code",
   "execution_count": 255,
   "id": "c91df75a",
   "metadata": {},
   "outputs": [
    {
     "data": {
      "image/png": "[encoded data removed]",
      "text/plain": [
       "<Figure size 432x288 with 1 Axes>"
      ]
     },
     "metadata": {
      "needs_background": "light"
     },
     "output_type": "display_data"
    }
   ],
   "source": [
    "ada2.fit(X_train2, y_train2)\n",
    "plt.plot(range(1, len(ada2.cost_)+ 1), ada2.cost_, marker='o' )\n",
    "plt.show()"
   ]
  },
  {
   "cell_type": "code",
   "execution_count": 256,
   "id": "b3e2783a",
   "metadata": {},
   "outputs": [
    {
     "data": {
      "image/png": "[encoded data removed]",
      "text/plain": [
       "<Figure size 432x288 with 1 Axes>"
      ]
     },
     "metadata": {
      "needs_background": "light"
     },
     "output_type": "display_data"
    }
   ],
   "source": [
    "ada3.fit(X_train3, y_train3)\n",
    "plt.plot(range(1, len(ada3.cost_)+ 1), ada3.cost_, marker='o' )\n",
    "plt.show()"
   ]
  },
  {
   "cell_type": "code",
   "execution_count": 265,
   "id": "3fa22c47",
   "metadata": {},
   "outputs": [
    {
     "data": {
      "text/plain": [
       "array(-1)"
      ]
     },
     "execution_count": 265,
     "metadata": {},
     "output_type": "execute_result"
    }
   ],
   "source": [
    "ada1.predict([10, 1, 10])"
   ]
  },
  {
   "cell_type": "code",
   "execution_count": 258,
   "id": "b66513b9",
   "metadata": {},
   "outputs": [
    {
     "data": {
      "text/plain": [
       "array(1)"
      ]
     },
     "execution_count": 258,
     "metadata": {},
     "output_type": "execute_result"
    }
   ],
   "source": [
    "ada2.predict([-1,-1, 2])"
   ]
  },
  {
   "cell_type": "code",
   "execution_count": 259,
   "id": "aec0ccfc",
   "metadata": {},
   "outputs": [
    {
     "data": {
      "text/plain": [
       "array(-1)"
      ]
     },
     "execution_count": 259,
     "metadata": {},
     "output_type": "execute_result"
    }
   ],
   "source": [
    "ada3.predict([-1, 1, 2])"
   ]
  },
  {
   "cell_type": "markdown",
   "id": "20151058",
   "metadata": {},
   "source": [
    "# Мы должны научиться понимать, какая из линий выигрышная\n",
    "\n",
    "## Считаем, что:\n",
    "###  -1 в X это противник нашей нейронной сети\n",
    "### и что сейчас именно наш ход\n",
    "\n",
    "Здесь мы искусственно расширили ситуации выигрышных линий, для уравновешивания шансов"
   ]
  },
  {
   "cell_type": "code",
   "execution_count": 302,
   "id": "8a84c083",
   "metadata": {},
   "outputs": [],
   "source": [
    "X_win = np.array([\n",
    "    [0,0,0],\n",
    "    [0,0,0],\n",
    "    [0,0,0],\n",
    "    [0,0,0],\n",
    "    [0,0,1],\n",
    "    [0,1,0],\n",
    "    [0,1,1],\n",
    "    [1,0,0],\n",
    "    [1,0,1],\n",
    "    [1,1,0],\n",
    "    [1,1,0],\n",
    "    [1,1,0],\n",
    "    [0,1,1],\n",
    "    [0,1,1],\n",
    "    \n",
    "    [0,0,-1],\n",
    "    [0,-1,0],\n",
    "    [0,-1,-1],\n",
    "\n",
    "    [-1,-1,0],\n",
    "   \n",
    "])\n",
    "\n",
    "X_win = np.where(X_win == -1, 10, X_win)\n",
    "X_win = np.where(X_win == 0, -1, X_win)\n",
    "\n",
    "y_win = np.array([-1,-1,-1,-1, -1, -1, 1, -1, 1, 1,     1,1,1,1,\n",
    "                  -1,  -1, -1, -1,]) \n"
   ]
  },
  {
   "cell_type": "code",
   "execution_count": 303,
   "id": "2d096d3a",
   "metadata": {},
   "outputs": [
    {
     "data": {
      "text/plain": [
       "array([[ 1, -1,  1],\n",
       "       [-1, 10, -1],\n",
       "       [-1,  1,  1],\n",
       "       [-1,  1, -1]])"
      ]
     },
     "execution_count": 303,
     "metadata": {},
     "output_type": "execute_result"
    }
   ],
   "source": [
    "X_train_win, X_test_win, y_train_win, y_test_win = train_test_split(X_win, y_win, test_size = 0.2, \n",
    "                                                                    random_state=1, stratify=y_win )\n",
    "X_test_win"
   ]
  },
  {
   "cell_type": "markdown",
   "id": "499f5b3e",
   "metadata": {},
   "source": [
    "#### Потребовалось уменьшить скорость обучения"
   ]
  },
  {
   "cell_type": "code",
   "execution_count": 304,
   "id": "937c3caa",
   "metadata": {},
   "outputs": [],
   "source": [
    "ada_win = AdaLineGD( eta=0.001, n_iter=100, random_state=1)"
   ]
  },
  {
   "cell_type": "code",
   "execution_count": 305,
   "id": "ec7e7728",
   "metadata": {},
   "outputs": [
    {
     "data": {
      "image/png": "[encoded data removed]",
      "text/plain": [
       "<Figure size 432x288 with 1 Axes>"
      ]
     },
     "metadata": {
      "needs_background": "light"
     },
     "output_type": "display_data"
    }
   ],
   "source": [
    "ada_win.fit(X_train_win, y_train_win)\n",
    "plt.plot(range(1, len(ada_win.cost_)+ 1), ada_win.cost_, marker='o' )\n",
    "plt.show()"
   ]
  },
  {
   "cell_type": "markdown",
   "id": "b4130050",
   "metadata": {},
   "source": [
    "### нейрон ada_win:\n",
    "#### игроман\n",
    "#### ставит всё на удачу\n",
    "#### безумно хочет выиграть\n",
    "#### всегда и во всём\n",
    "#### карманы всегда полны талисманами на удачу"
   ]
  },
  {
   "cell_type": "code",
   "execution_count": 306,
   "id": "78c5cdab",
   "metadata": {},
   "outputs": [
    {
     "data": {
      "text/plain": [
       "array(-1)"
      ]
     },
     "execution_count": 306,
     "metadata": {},
     "output_type": "execute_result"
    }
   ],
   "source": [
    "ada_win.predict([-1,-1,-1])"
   ]
  },
  {
   "cell_type": "markdown",
   "id": "c31c38e6",
   "metadata": {},
   "source": [
    "# Отлично\n",
    "## Теперь подумаем о всём самом пхохом\n",
    "## Будем переживать за каждую мелочь\n",
    "\n",
    "### Научим новый персептрон "
   ]
  },
  {
   "cell_type": "markdown",
   "id": "56892a73",
   "metadata": {},
   "source": [
    "## Нейрон ada_lose\n",
    "\n",
    "#### Пессимист\n",
    "#### Нервный\n",
    "#### Боится проиграть\n",
    "#### Весь в комплексах\n",
    "#### Три раза проверяет, выключил ли он газовую плиту"
   ]
  },
  {
   "cell_type": "code",
   "execution_count": 43,
   "id": "b06483f8",
   "metadata": {},
   "outputs": [],
   "source": [
    "X_lose = np.array([\n",
    "    [0,0,0],\n",
    "    [0,0,1],\n",
    "\n",
    "    [0,1,1],\n",
    "\n",
    "    [1,0,1],\n",
    "    [1,1,0],\n",
    "        \n",
    "    [0,0,-1],\n",
    "    [0,-1,0],\n",
    "    [0,-1,-1], #\n",
    "    [-1,0,0],\n",
    "    [-1,0,-1],#\n",
    "    [-1,-1,0],#\n",
    "    \n",
    "    [-1,0,-1],#\n",
    "    [-1,-1,0],#\n",
    "    [0,-1,-1],#\n",
    "    [-1,-1,0],#\n",
    "    \n",
    "     #[-1,0,-1],#\n",
    "   # [-1,0,-1],#\n",
    "    [-1,-1,0],#\n",
    "    [-1,-1,0],#\n",
    "    \n",
    "    [0,1,-1],\n",
    "    [-1,0,1],\n",
    "    [1,-1,0],\n",
    "    \n",
    "    [1,0,-1],\n",
    "    [-1,1,0],\n",
    "    [0,-1,1],\n",
    "])\n",
    "\n",
    "X_lose = np.where(X_lose == -1, 10, X_lose)\n",
    "X_lose = np.where(X_lose == 0, -1, X_lose)\n",
    "\n",
    "\n",
    "y_lose = np.array([ -1, -1, -1, -1, -1, \n",
    "                    -1,  -1, 1,  -1, 1, 1,\n",
    "                   1, 1, 1, 1, 1, 1, #1, #1,\n",
    "                   -1, -1,-1,-1, -1, -1\n",
    "])\n",
    "\n"
   ]
  },
  {
   "cell_type": "code",
   "execution_count": 44,
   "id": "460d93e6",
   "metadata": {},
   "outputs": [
    {
     "data": {
      "text/plain": [
       "array([[ 1, -1, 10],\n",
       "       [10, 10, -1],\n",
       "       [-1, -1, 10]])"
      ]
     },
     "execution_count": 44,
     "metadata": {},
     "output_type": "execute_result"
    }
   ],
   "source": [
    "X_train_lose, X_test_lose, y_train_lose, y_test_lose = train_test_split(X_lose, y_lose, test_size = 0.1, \n",
    "                                                                    random_state=1, stratify=y_lose)\n",
    "X_test_lose"
   ]
  },
  {
   "cell_type": "code",
   "execution_count": 45,
   "id": "90c45abd",
   "metadata": {},
   "outputs": [],
   "source": [
    "ada_lose = AdaLineGD( eta=0.001, n_iter=400, random_state=1)"
   ]
  },
  {
   "cell_type": "code",
   "execution_count": 46,
   "id": "2fb99f71",
   "metadata": {},
   "outputs": [
    {
     "data": {
      "image/png": "[encoded data removed]",
      "text/plain": [
       "<Figure size 432x288 with 1 Axes>"
      ]
     },
     "metadata": {
      "needs_background": "light"
     },
     "output_type": "display_data"
    }
   ],
   "source": [
    "ada_lose.fit(X_train_lose, y_train_lose)\n",
    "plt.plot(range(1, len(ada_lose.cost_)+ 1), ada_lose.cost_, marker='o' )\n",
    "plt.show()"
   ]
  },
  {
   "cell_type": "code",
   "execution_count": 47,
   "id": "5243b920",
   "metadata": {},
   "outputs": [
    {
     "data": {
      "text/plain": [
       "array(-1)"
      ]
     },
     "execution_count": 47,
     "metadata": {},
     "output_type": "execute_result"
    }
   ],
   "source": [
    "ada_lose.predict([10,1,0])"
   ]
  },
  {
   "cell_type": "markdown",
   "id": "f0315094",
   "metadata": {},
   "source": [
    "# Замечательно\n",
    "\n",
    "##  А давайте научим ещё один!"
   ]
  },
  {
   "cell_type": "markdown",
   "id": "68c3b5e9",
   "metadata": {},
   "source": [
    "### Нейрон ada_free:\n",
    "#### Беззаботный\n",
    "#### Ни о чем не беспокоится\n",
    "#### Ищет самые легкие пути\n",
    "#### Никогда его не встретишь в тёмных переулках"
   ]
  },
  {
   "cell_type": "code",
   "execution_count": 48,
   "id": "8cabcde0",
   "metadata": {},
   "outputs": [
    {
     "data": {
      "text/plain": [
       "(14,)"
      ]
     },
     "execution_count": 48,
     "metadata": {},
     "output_type": "execute_result"
    }
   ],
   "source": [
    "X_free = np.array([\n",
    "    [0,0,0],\n",
    "    [0,0,1],\n",
    "    [0,1,0],\n",
    "    [0,1,1],\n",
    "    [1,0,0],\n",
    "    [1,0,1],\n",
    "    [1,1,0],\n",
    "\n",
    "    \n",
    "    [0,0,-1],\n",
    "    [0,-1,0],\n",
    "    [0,-1,0],\n",
    "    [0,-1,-1],\n",
    "    [-1,0,0],\n",
    "    [-1,0,-1],\n",
    "    [-1,-1,0],\n",
    "    \n",
    "    \n",
    "])\n",
    "\n",
    "X_free = np.where(X_free == -1, 10, X_free)\n",
    "X_free = np.where(X_free == 0, -1, X_free)\n",
    "\n",
    "\n",
    "y_free = np.array([1,1,1,1,1,1,1,\n",
    "                  -1,-1,-1,-1,-1,-1,-1,])\n",
    "y_free.shape"
   ]
  },
  {
   "cell_type": "code",
   "execution_count": 49,
   "id": "b995294e",
   "metadata": {},
   "outputs": [
    {
     "data": {
      "text/plain": [
       "array([[ 1, -1,  1],\n",
       "       [10, -1, 10]])"
      ]
     },
     "execution_count": 49,
     "metadata": {},
     "output_type": "execute_result"
    }
   ],
   "source": [
    "X_train_free, X_test_free, y_train_free, y_test_free = train_test_split(X_free, y_free, test_size = 0.1, \n",
    "                                                                    random_state=1, stratify=y_free)\n",
    "X_test_free"
   ]
  },
  {
   "cell_type": "code",
   "execution_count": 50,
   "id": "c30c7286",
   "metadata": {},
   "outputs": [],
   "source": [
    "ada_free = AdaLineGD( eta=0.001, n_iter=400, random_state=1)"
   ]
  },
  {
   "cell_type": "code",
   "execution_count": 51,
   "id": "e50d9b58",
   "metadata": {},
   "outputs": [
    {
     "data": {
      "image/png": "[encoded data removed]",
      "text/plain": [
       "<Figure size 432x288 with 1 Axes>"
      ]
     },
     "metadata": {
      "needs_background": "light"
     },
     "output_type": "display_data"
    }
   ],
   "source": [
    "ada_free.fit(X_train_free, y_train_free)\n",
    "plt.plot(range(1, len(ada_free.cost_)+ 1), ada_free.cost_, marker='o' )\n",
    "plt.show()"
   ]
  },
  {
   "cell_type": "code",
   "execution_count": 52,
   "id": "0bfb7413",
   "metadata": {},
   "outputs": [
    {
     "data": {
      "text/plain": [
       "array(1)"
      ]
     },
     "execution_count": 52,
     "metadata": {},
     "output_type": "execute_result"
    }
   ],
   "source": [
    "ada_free.predict([0,0,1])"
   ]
  },
  {
   "cell_type": "markdown",
   "id": "de234edf",
   "metadata": {},
   "source": [
    "# И ещё один"
   ]
  },
  {
   "cell_type": "markdown",
   "id": "5697650c",
   "metadata": {},
   "source": [
    "### Нейрон ada_zen:\n",
    "#### Смирившийся\n",
    "#### Всё тлен\n",
    "#### Есть только дзен\n",
    "#### Любит баланс\n",
    "#### Особенно положительный.. на сберегательной карте"
   ]
  },
  {
   "cell_type": "code",
   "execution_count": 113,
   "id": "9040ed2c",
   "metadata": {},
   "outputs": [],
   "source": [
    "X_zen = np.array([\n",
    "    #[0,0,1],    \n",
    "    [0,1,0],\n",
    "    [0,1,1],\n",
    "    [1,0,0],\n",
    "    \n",
    "    #[1,0,1],\n",
    "    \n",
    "    [1,1,0],\n",
    "    \n",
    "    [0,0,-1],\n",
    "    [0,-1,0],\n",
    "    [0,-1,-1],\n",
    "    [-1,0,0],\n",
    "    [-1,0,-1],\n",
    "    #[-1,-1,0],\n",
    "    \n",
    "    [-1, 0, 1],\n",
    "    [1, 0, -1],\n",
    "    [0, 1, -1],\n",
    "    [0, -1, 1],\n",
    "    [1,-1, 0],\n",
    "    [-1, 1, 0],\n",
    "    [0, 1, -1],\n",
    "   [-1, 0, 1],\n",
    "    [-1, 1, 0],\n",
    "    [1, 0, -1],\n",
    "    [0, 1, -1],\n",
    "])\n",
    "X_zen = np.where(X_zen == -1, 10, X_zen)\n",
    "X_zen = np.where(X_zen == 0, -1, X_zen)\n",
    "\n",
    "y_zen = np.array([-1, -1, -1, -1, -1, -1, -1, -1, -1,       # -1, -1, #-1, #-1\n",
    "                 1, 1, 1, 1, 1, 1, 1, 1, 1, 1, 1\n",
    "                 ])\n",
    "\n",
    "\n"
   ]
  },
  {
   "cell_type": "code",
   "execution_count": 114,
   "id": "47d5a1ee",
   "metadata": {},
   "outputs": [
    {
     "data": {
      "text/plain": [
       "array([[-1, 10, -1],\n",
       "       [10, -1,  1]])"
      ]
     },
     "execution_count": 114,
     "metadata": {},
     "output_type": "execute_result"
    }
   ],
   "source": [
    "X_train_zen, X_test_zen, y_train_zen, y_test_zen = train_test_split(X_zen, y_zen, test_size = 0.1, \n",
    "                                                                    random_state=1, stratify=y_zen)\n",
    "X_test_zen"
   ]
  },
  {
   "cell_type": "code",
   "execution_count": 120,
   "id": "417e7438",
   "metadata": {},
   "outputs": [],
   "source": [
    "ada_zen = AdaLineGD( eta=0.001, n_iter=600, random_state=1)"
   ]
  },
  {
   "cell_type": "code",
   "execution_count": 121,
   "id": "ece1df0f",
   "metadata": {},
   "outputs": [
    {
     "data": {
      "image/png": "[encoded data removed]",
      "text/plain": [
       "<Figure size 432x288 with 1 Axes>"
      ]
     },
     "metadata": {
      "needs_background": "light"
     },
     "output_type": "display_data"
    }
   ],
   "source": [
    "ada_zen.fit(X_train_zen, y_train_zen)\n",
    "plt.plot(range(1, len(ada_zen.cost_)+ 1), ada_zen.cost_, marker='o' )\n",
    "plt.show()"
   ]
  },
  {
   "cell_type": "code",
   "execution_count": 124,
   "id": "4858b2d2",
   "metadata": {},
   "outputs": [
    {
     "data": {
      "text/plain": [
       "array(1)"
      ]
     },
     "execution_count": 124,
     "metadata": {},
     "output_type": "execute_result"
    }
   ],
   "source": [
    "ada_zen.predict([1, -1,10])"
   ]
  },
  {
   "cell_type": "markdown",
   "id": "42a3ab64",
   "metadata": {},
   "source": [
    "# Теперь приступим к оформлению крестиков-ноликов\n",
    "\n",
    "## Да, самое время"
   ]
  },
  {
   "cell_type": "markdown",
   "id": "0c8e715a",
   "metadata": {},
   "source": [
    "Сетка из drawwy"
   ]
  },
  {
   "cell_type": "code",
   "execution_count": 126,
   "id": "8238491a",
   "metadata": {},
   "outputs": [],
   "source": [
    "def grid(cnv, xstep, ystep, clr=(0, 0, 0)):\n",
    "    cnv[::ystep, :] = clr\n",
    "    cnv[:, ::xstep] = clr"
   ]
  },
  {
   "cell_type": "markdown",
   "id": "cb66b2e9",
   "metadata": {},
   "source": [
    "Оттуда же"
   ]
  },
  {
   "cell_type": "code",
   "execution_count": null,
   "id": "f2f63026",
   "metadata": {},
   "outputs": [],
   "source": [
    "# 1) Нарисовать Крестик\n",
    "# 2) Изменить значение в X_pure\n"
   ]
  },
  {
   "cell_type": "code",
   "execution_count": 320,
   "id": "1f23d39a",
   "metadata": {},
   "outputs": [],
   "source": [
    "def draw(event, x, y, flags, param):\n",
    "    x_ = x // 200\n",
    "    y_ = y // 200\n",
    "   \n",
    "    x = x - x%200 + 1\n",
    "    y = y - y%200 + 1\n",
    "    power = 100\n",
    "    try:\n",
    "        if flags == 1:\n",
    "            # cnv[y:199+y, x:x+199] = (0, 0, 0)\n",
    "            cv2.line(cnv, (x + 10, y + 10), (x+199 - 10, y+199 - 10), (0, 0, 0), 10 )\n",
    "            cv2.line(cnv, (x + 10 , y + 199 + 10), (x+199 - 10, y  + 10), (0, 0, 0), 10 )\n",
    "            \n",
    "            marked(X_pure,10 , int(x//200), int(y//200)  )\n",
    "            \n",
    "            #X_in[y_, x_] = 255\n",
    "            \n",
    "        #elif flags == 2:\n",
    "        #    cnv[y:199+y, x:x+199] = (255, 255, 255)\n",
    "        #    X_in[y_, x_] = 0\n",
    "        if event == 4:\n",
    "            score = predict(X_pure)\n",
    "            max_score_index = score.index(max(score))\n",
    "            draw_Ous (max_score_index, 200)\n",
    "            X_pure[max_score_index] = 1\n",
    "            print(max_score_index , score)\n",
    "    except:\n",
    "        pass"
   ]
  },
  {
   "cell_type": "markdown",
   "id": "92881624",
   "metadata": {},
   "source": [
    "# 0 1 2 - 3 4 5 - 6 7 8 \n",
    "\n",
    "##  <u> 0 | 1 | 2 </u>\n",
    "## <u> 3 | 4 | 5 </u>\n",
    "##   6 | 7 | 8 "
   ]
  },
  {
   "cell_type": "code",
   "execution_count": 215,
   "id": "6b6a0147",
   "metadata": {},
   "outputs": [],
   "source": [
    "def draw_Ous (pos, step):\n",
    "    x0 = int(step/2)\n",
    "    y0 = int(step/2)\n",
    "    \n",
    "    dy = pos // 3\n",
    "    dx = pos % 3\n",
    "    cv2.circle(cnv, (x0 + step* dx, y0 + step* dy), x0, (0,0,0), 10)"
   ]
  },
  {
   "cell_type": "code",
   "execution_count": 342,
   "id": "969ad382",
   "metadata": {},
   "outputs": [
    {
     "name": "stdout",
     "output_type": "stream",
     "text": [
      "1 -> [-1, -1, -1] 0\n",
      "1 -> [-1, -1, -1] 1\n",
      "1 -> [-1, -1, -1] 2\n",
      "1 -> [-1, 1, -1] 3\n",
      "-1 -> [-1, 1, -1] 4\n",
      "1 -> [-1, 1, -1] 5\n",
      "1 -> [-1, -1, -1] 6\n",
      "1 -> [-1, -1, -1] 7\n",
      "1 -> [-1, -1, -1] 8\n",
      "1 -> [-1, -1, -1] 0\n",
      "1 -> [-1, -1, -1] 3\n",
      "1 -> [-1, -1, -1] 6\n",
      "1 -> [-1, 1, -1] 1\n",
      "-1 -> [-1, 1, -1] 4\n",
      "1 -> [-1, 1, -1] 7\n",
      "1 -> [-1, -1, -1] 2\n",
      "1 -> [-1, -1, -1] 5\n",
      "1 -> [-1, -1, -1] 8\n",
      "1 -> [-1, 1, -1] 2\n",
      "-1 -> [-1, 1, -1] 4\n",
      "1 -> [-1, 1, -1] 6\n",
      "1 -> [-1, 1, -1] 0\n",
      "-1 -> [-1, 1, -1] 4\n",
      "1 -> [-1, 1, -1] 8\n",
      "_________________\n",
      "1 -> [-1, -1, -1] 0\n",
      "1 -> [-1, -1, -1] 1\n",
      "1 -> [-1, -1, -1] 2\n",
      "1 -> [-1, 1, 10] 3\n",
      "-1 -> [-1, 1, 10] 4\n",
      "-1 -> [-1, 1, 10] 5\n",
      "1 -> [-1, -1, -1] 6\n",
      "1 -> [-1, -1, -1] 7\n",
      "1 -> [-1, -1, -1] 8\n",
      "1 -> [-1, -1, -1] 0\n",
      "1 -> [-1, -1, -1] 3\n",
      "1 -> [-1, -1, -1] 6\n",
      "1 -> [-1, 1, -1] 1\n",
      "-1 -> [-1, 1, -1] 4\n",
      "1 -> [-1, 1, -1] 7\n",
      "1 -> [-1, 10, -1] 2\n",
      "-1 -> [-1, 10, -1] 5\n",
      "1 -> [-1, 10, -1] 8\n",
      "1 -> [-1, 1, -1] 2\n",
      "-1 -> [-1, 1, -1] 4\n",
      "1 -> [-1, 1, -1] 6\n",
      "1 -> [-1, 1, -1] 0\n",
      "-1 -> [-1, 1, -1] 4\n",
      "1 -> [-1, 1, -1] 8\n",
      "_________________\n",
      "2 [7416, 1236, 249672, 12, 0, 0, 7416, 1236, 249672]\n",
      "1 -> [-1, -1, 1] 0\n",
      "1 -> [-1, -1, 1] 1\n",
      "-1 -> [-1, -1, 1] 2\n",
      "1 -> [-1, 1, 10] 3\n",
      "-1 -> [-1, 1, 10] 4\n",
      "-1 -> [-1, 1, 10] 5\n",
      "-1 -> [10, -1, -1] 6\n",
      "1 -> [10, -1, -1] 7\n",
      "1 -> [10, -1, -1] 8\n",
      "1 -> [-1, -1, 10] 0\n",
      "1 -> [-1, -1, 10] 3\n",
      "-1 -> [-1, -1, 10] 6\n",
      "1 -> [-1, 1, -1] 1\n",
      "-1 -> [-1, 1, -1] 4\n",
      "1 -> [-1, 1, -1] 7\n",
      "-1 -> [1, 10, -1] 2\n",
      "-1 -> [1, 10, -1] 5\n",
      "1 -> [1, 10, -1] 8\n",
      "1 -> [-1, 1, -1] 2\n",
      "-1 -> [-1, 1, -1] 4\n",
      "1 -> [-1, 1, -1] 6\n",
      "-1 -> [1, 1, 10] 0\n",
      "-1 -> [1, 1, 10] 4\n",
      "-1 -> [1, 1, 10] 8\n",
      "_________________\n",
      "1 [0, 1236, 0, 4, 0, 0, 0, 412, 0]\n",
      "-1 -> [10, 1, 1] 0\n",
      "-1 -> [10, 1, 1] 1\n",
      "-1 -> [10, 1, 1] 2\n",
      "1 -> [-1, 1, 10] 3\n",
      "-1 -> [-1, 1, 10] 4\n",
      "-1 -> [-1, 1, 10] 5\n",
      "-1 -> [10, -1, -1] 6\n",
      "1 -> [10, -1, -1] 7\n",
      "1 -> [10, -1, -1] 8\n",
      "-1 -> [10, -1, 10] 0\n",
      "1 -> [10, -1, 10] 3\n",
      "-1 -> [10, -1, 10] 6\n",
      "-1 -> [1, 1, -1] 1\n",
      "-1 -> [1, 1, -1] 4\n",
      "1 -> [1, 1, -1] 7\n",
      "-1 -> [1, 10, -1] 2\n",
      "-1 -> [1, 10, -1] 5\n",
      "1 -> [1, 10, -1] 8\n",
      "-1 -> [10, 1, -1] 2\n",
      "-1 -> [10, 1, -1] 4\n",
      "1 -> [10, 1, -1] 6\n",
      "-1 -> [1, 1, 10] 0\n",
      "-1 -> [1, 1, 10] 4\n",
      "-1 -> [1, 1, 10] 8\n",
      "_________________\n",
      "3 [0, 0, 0, 44, 0, 0, 0, 12, 0]\n",
      "-1 -> [10, 1, 1] 0\n",
      "-1 -> [10, 1, 1] 1\n",
      "-1 -> [10, 1, 1] 2\n",
      "-1 -> [1, 1, 10] 3\n",
      "-1 -> [1, 1, 10] 4\n",
      "-1 -> [1, 1, 10] 5\n",
      "-1 -> [10, -1, 10] 6\n",
      "1 -> [10, -1, 10] 7\n",
      "-1 -> [10, -1, 10] 8\n",
      "-1 -> [10, 1, 10] 0\n",
      "1 -> [10, 1, 10] 3\n",
      "-1 -> [10, 1, 10] 6\n",
      "-1 -> [1, 1, -1] 1\n",
      "-1 -> [1, 1, -1] 4\n",
      "1 -> [1, 1, -1] 7\n",
      "1 -> [1, 10, 10] 2\n",
      "-1 -> [1, 10, 10] 5\n",
      "-1 -> [1, 10, 10] 8\n",
      "-1 -> [10, 1, 10] 2\n",
      "1 -> [10, 1, 10] 4\n",
      "-1 -> [10, 1, 10] 6\n",
      "-1 -> [1, 1, 10] 0\n",
      "-1 -> [1, 1, 10] 4\n",
      "-1 -> [1, 1, 10] 8\n",
      "_________________\n",
      "7 [0, 0, 0, 0, 0, 0, 0, 132, 0]\n"
     ]
    }
   ],
   "source": [
    "clr = np.array([0,100,200], dtype=np.uint8())\n",
    "cnv = np.ones((600, 600, 3), dtype=np.uint8()) * clr\n",
    "# Значения в каждой клеточке; -1 ничего, 1 крестик, 10 нолик\n",
    "X_pure = [-1]* 9\n",
    "X_pure [4] = 1\n",
    "draw_Ous (4, 200)\n",
    "predict(X_pure)\n",
    "grid(cnv, 200, 200, (150, 200, 0))\n",
    "\n",
    "cv2.namedWindow('cnv')\n",
    "cv2.setMouseCallback('cnv', draw)\n",
    "while True:\n",
    "    cv2.imshow('cnv', cnv)\n",
    "    if cv2.waitKey(1) == 27:\n",
    "        break\n",
    "cv2.destroyAllWindows()  "
   ]
  },
  {
   "cell_type": "markdown",
   "id": "e862f183",
   "metadata": {},
   "source": [
    "# А теперь самая жесть\n",
    "## Объединим наши перцептроны"
   ]
  },
  {
   "cell_type": "code",
   "execution_count": 322,
   "id": "eecb4cf9",
   "metadata": {},
   "outputs": [],
   "source": [
    "def predict(X):\n",
    "    \n",
    "    \"\"\"\n",
    "    На вход подается именно линейный массив\n",
    "    \"\"\"\n",
    "    X_score_count = [1]* 9\n",
    "    X_form = data_form(X) \n",
    "    # последовательность индесков\n",
    "    list_order = [\n",
    "        [0,1,2],\n",
    "        [3,4,5],\n",
    "        [6,7,8],\n",
    "        [0,3,6],\n",
    "        [1,4,7],\n",
    "        [2,5,8],\n",
    "        [2,4,6],\n",
    "        [0,4,8]\n",
    "    ]   \n",
    "    for i, X_ in enumerate(X_form):\n",
    "        y_temp = [ada_win.predict(X_),\n",
    "                  ada_lose.predict(X_),\n",
    "                  ada_free.predict(X_),\n",
    "                  ada_zen.predict(X_)]\n",
    "        for ii in range(len(y_temp)):\n",
    "            if (y_temp[ii]) < 0:\n",
    "                y_temp[ii] = 0\n",
    "        ada_pos = [ada1, ada2, ada3]\n",
    "    \n",
    "        for ind, pos in enumerate(list_order[i]):\n",
    "            X_score_count[pos] *= (y_temp[0]*100 +   y_temp[1]*10 +  y_temp[2]*3 +  y_temp[3]*1 ) *(1+ ada_pos[ind].predict(X_))\n",
    "            print(ada_pos[ind].predict(X_), \"->\", X_, pos)\n",
    "    print('_________________')\n",
    "    return X_score_count     "
   ]
  },
  {
   "cell_type": "markdown",
   "id": "329d41fe",
   "metadata": {},
   "source": [
    "## &emsp;&emsp;3&ensp; 4 &ensp;5 \n",
    "## &emsp;&emsp;\\\\/&ensp;\\\\/&ensp;\\\\/ &emsp; /_ 6\n",
    "##  0 > <u> 0 | 1 | 2 </u>\n",
    "##  1 > <u> 3 | 4 | 5 </u>\n",
    "##   2> 6 | 7 | 8 \n",
    "## &emsp;&emsp;&emsp;&emsp;&emsp; Г 7\n",
    "\n"
   ]
  },
  {
   "cell_type": "code",
   "execution_count": 272,
   "id": "d3f5013f",
   "metadata": {},
   "outputs": [],
   "source": [
    "def data_form(X):\n",
    "    \"\"\"\n",
    "     На вход линейный список входных значений\n",
    "    \"\"\"\n",
    "    X_form = []\n",
    "    X_form.append(X[:3])\n",
    "    X_form.append(X[3:6])\n",
    "    X_form.append(X[6:])\n",
    "\n",
    "    X_form.append([X[0], X[3], X[6]])\n",
    "    X_form.append([X[1], X[4], X[7]])\n",
    "    X_form.append([X[2], X[5], X[8]])\n",
    "\n",
    "    X_form.append([X[0], X[4], X[8]])\n",
    "    X_form.append([X[2], X[4], X[6]])\n",
    "    return X_form"
   ]
  },
  {
   "cell_type": "code",
   "execution_count": 224,
   "id": "6ef9ffb9",
   "metadata": {},
   "outputs": [],
   "source": [
    "def marked(X_pure, mark, x, y):\n",
    "    \n",
    "    X_pure[ 3*y + x] = mark\n",
    "    return X_pure"
   ]
  },
  {
   "cell_type": "code",
   "execution_count": 229,
   "id": "9de4dc74",
   "metadata": {},
   "outputs": [
    {
     "name": "stdout",
     "output_type": "stream",
     "text": [
      "0 [0, 1, 2]\n",
      "1 [3, 4, 5]\n",
      "2 [6, 7, 8]\n",
      "3 [0, 3, 6]\n",
      "4 [1, 4, 7]\n",
      "5 [2, 5, 8]\n",
      "6 [2, 4, 6]\n",
      "7 [0, 4, 8]\n"
     ]
    }
   ],
   "source": []
  },
  {
   "cell_type": "code",
   "execution_count": 285,
   "id": "fce1cdde",
   "metadata": {},
   "outputs": [
    {
     "data": {
      "text/plain": [
       "10"
      ]
     },
     "execution_count": 285,
     "metadata": {},
     "output_type": "execute_result"
    }
   ],
   "source": [
    "lst = [1, 3, 6, 8, 3, 23, 6, 8, 5, 3, 45, 6, 8, 5, 3]\n",
    "lst.index(max(lst))"
   ]
  },
  {
   "cell_type": "code",
   "execution_count": null,
   "id": "37dc1058",
   "metadata": {},
   "outputs": [],
   "source": []
  }
 ],
 "metadata": {
  "kernelspec": {
   "display_name": "Python 3 (ipykernel)",
   "language": "python",
   "name": "python3"
  },
  "language_info": {
   "codemirror_mode": {
    "name": "ipython",
    "version": 3
   },
   "file_extension": ".py",
   "mimetype": "text/x-python",
   "name": "python",
   "nbconvert_exporter": "python",
   "pygments_lexer": "ipython3",
   "version": "3.10.0"
  }
 },
 "nbformat": 4,
 "nbformat_minor": 5
}
