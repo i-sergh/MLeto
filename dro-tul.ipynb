{
 "cells": [
  {
   "cell_type": "code",
   "execution_count": 7,
   "metadata": {},
   "outputs": [],
   "source": [
    "import cv2 \n",
    "import numpy as np\n",
    "\n",
    "import keras\n",
    "from keras.models import  model_from_json"
   ]
  },
  {
   "cell_type": "code",
   "execution_count": 23,
   "metadata": {},
   "outputs": [],
   "source": [
    "from keras.datasets import mnist"
   ]
  },
  {
   "cell_type": "code",
   "execution_count": 8,
   "metadata": {},
   "outputs": [],
   "source": [
    "with open('model_params.json', 'r') as f:\n",
    "    loaded_model = keras.models.model_from_json(f.read())\n",
    "    \n",
    "loaded_model.load_weights('weights.h5')"
   ]
  },
  {
   "cell_type": "code",
   "execution_count": 24,
   "metadata": {},
   "outputs": [],
   "source": [
    "(X_train, y_train), (X_valid, y_valid) = mnist.load_data()"
   ]
  },
  {
   "cell_type": "code",
   "execution_count": 29,
   "metadata": {},
   "outputs": [],
   "source": [
    "cv2.imshow('hello', X_train[0])\n",
    "cv2.waitKey(0)\n",
    "cv2.destroyAllWindows()"
   ]
  },
  {
   "cell_type": "code",
   "execution_count": 16,
   "metadata": {},
   "outputs": [],
   "source": [
    "def predict(X_in):\n",
    "    X_in_L = X_in.reshape(1, 784).astype('float32')\n",
    "    X_in_L /= 255\n",
    "    prediction = loaded_model.predict(X_in_L)\n",
    "    \n",
    "    for ind, par in enumerate(prediction):\n",
    "        print(par,  ind, sep=\"==>\\n\") \n",
    "    print('_______')"
   ]
  },
  {
   "cell_type": "code",
   "execution_count": 2,
   "metadata": {},
   "outputs": [],
   "source": [
    "def grid(cnv, xstep, ystep, clr=(0, 0, 0)):\n",
    "    cnv[::ystep, :] = clr\n",
    "    cnv[:, ::xstep] = clr"
   ]
  },
  {
   "cell_type": "code",
   "execution_count": 20,
   "metadata": {},
   "outputs": [],
   "source": [
    "def draw(event, x, y, flags, param):\n",
    "    x_ = x // 20\n",
    "    y_ = y // 20\n",
    "    \n",
    "    x = x - x%20 + 1\n",
    "    y = y - y%20 + 1\n",
    "    power = 100\n",
    "    try:\n",
    "        if flags == 1:\n",
    "            cnv[y:19+y, x:x+19] = (0, 0, 0)\n",
    "            X_in[y_, x_] = 255\n",
    "            \n",
    "        elif flags == 2:\n",
    "            cnv[y:19+y, x:x+19] = (255, 255, 255)\n",
    "            X_in[y_, x_] = 0\n",
    "        if event == 4:\n",
    "            predict(X_in)\n",
    "    except:\n",
    "        pass"
   ]
  },
  {
   "cell_type": "code",
   "execution_count": null,
   "metadata": {},
   "outputs": [
    {
     "name": "stdout",
     "output_type": "stream",
     "text": [
      "1/1 [==============================] - 0s 19ms/step\n",
      "[0.03811597 0.11815301 0.12877166 0.06384283 0.11936003 0.20097288\n",
      " 0.04319119 0.16276799 0.0747982  0.05002636]==>\n",
      "0\n",
      "_______\n",
      "1/1 [==============================] - 0s 19ms/step\n",
      "[0.0101332  0.03445623 0.00292907 0.03014355 0.43111473 0.17253481\n",
      " 0.0750287  0.0156324  0.04717061 0.18085673]==>\n",
      "0\n",
      "_______\n",
      "1/1 [==============================] - 0s 19ms/step\n",
      "[0.27387688 0.00100338 0.29196402 0.06988609 0.01938329 0.16241463\n",
      " 0.02463597 0.02464275 0.12547845 0.00671455]==>\n",
      "0\n",
      "_______\n",
      "1/1 [==============================] - 0s 19ms/step\n",
      "[0.24379607 0.0030653  0.26426885 0.310898   0.00196429 0.11833916\n",
      " 0.00125667 0.01992941 0.03576349 0.00071869]==>\n",
      "0\n",
      "_______\n",
      "1/1 [==============================] - 0s 19ms/step\n",
      "[0.09076525 0.01107828 0.3797921  0.36070973 0.00125194 0.09175818\n",
      " 0.00109789 0.01820643 0.044565   0.00077523]==>\n",
      "0\n",
      "_______\n"
     ]
    }
   ],
   "source": [
    "X_in = np.zeros((28, 28), dtype=np.uint8()) \n",
    "cnv = np.ones((560, 560, 3), dtype=np.uint8()) * 255\n",
    "\n",
    "grid(cnv, 20, 20, (100, 200, 0))\n",
    "\n",
    "cv2.namedWindow('cnv')\n",
    "cv2.setMouseCallback('cnv', draw)\n",
    "while True:\n",
    "    cv2.imshow('cnv', cnv)\n",
    "    if cv2.waitKey(1) == 27:\n",
    "        break\n",
    "cv2.destroyAllWindows()    "
   ]
  },
  {
   "cell_type": "code",
   "execution_count": null,
   "metadata": {},
   "outputs": [],
   "source": []
  },
  {
   "cell_type": "code",
   "execution_count": null,
   "metadata": {},
   "outputs": [],
   "source": []
  }
 ],
 "metadata": {
  "interpreter": {
   "hash": "4aca860ff88a36166c47b9a40d7585e7a74556f01fdc7d6d44616d47d558a926"
  },
  "kernelspec": {
   "display_name": "Python 3 (ipykernel)",
   "language": "python",
   "name": "python3"
  },
  "language_info": {
   "codemirror_mode": {
    "name": "ipython",
    "version": 3
   },
   "file_extension": ".py",
   "mimetype": "text/x-python",
   "name": "python",
   "nbconvert_exporter": "python",
   "pygments_lexer": "ipython3",
   "version": "3.10.2"
  }
 },
 "nbformat": 4,
 "nbformat_minor": 2
}
