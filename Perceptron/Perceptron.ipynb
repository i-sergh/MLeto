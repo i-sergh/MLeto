{
 "cells": [
  {
   "cell_type": "code",
   "execution_count": 4,
   "id": "df71ff97",
   "metadata": {},
   "outputs": [],
   "source": [
    "import numpy as np\n",
    "import matplotlib.pyplot as plt\n",
    "from random import randint"
   ]
  },
  {
   "cell_type": "code",
   "execution_count": 139,
   "id": "60e57bfa",
   "metadata": {},
   "outputs": [],
   "source": [
    "from matplotlib.colors import ListedColormap"
   ]
  },
  {
   "cell_type": "code",
   "execution_count": 70,
   "id": "ca362105",
   "metadata": {
    "collapsed": true
   },
   "outputs": [
    {
     "data": {
      "text/plain": [
       "[(94, 90),\n",
       " (88, 8),\n",
       " (86, 21),\n",
       " (97, 30),\n",
       " (87, 97),\n",
       " (72, 82),\n",
       " (88, 54),\n",
       " (91, 53),\n",
       " (81, 9),\n",
       " (94, 0),\n",
       " (73, 32),\n",
       " (85, 32),\n",
       " (76, 85),\n",
       " (75, 24),\n",
       " (93, 54),\n",
       " (83, 40),\n",
       " (94, 61),\n",
       " (80, 53),\n",
       " (74, 81),\n",
       " (71, 62),\n",
       " (88, 59),\n",
       " (83, 52),\n",
       " (99, 74),\n",
       " (94, 35),\n",
       " (92, 62),\n",
       " (97, 0),\n",
       " (92, 63),\n",
       " (84, 5),\n",
       " (79, 61),\n",
       " (81, 40),\n",
       " (75, 1),\n",
       " (94, 11),\n",
       " (80, 14),\n",
       " (83, 14),\n",
       " (100, 24),\n",
       " (97, 81),\n",
       " (100, 1),\n",
       " (100, 38),\n",
       " (77, 60),\n",
       " (98, 47),\n",
       " (83, 52),\n",
       " (96, 6)]"
      ]
     },
     "execution_count": 70,
     "metadata": {},
     "output_type": "execute_result"
    }
   ],
   "source": [
    "lx1 = [randint(70,100) for _ in range(42)]\n",
    "ly1 = [randint(0,100) for _ in range(42)]\n",
    "list(zip(lx1,ly1))\n",
    "#x2 = [randint(0,50) for _ in range(42)]\n",
    "#y2 = [randint(0,45) for _ in range(42)]"
   ]
  },
  {
   "cell_type": "code",
   "execution_count": 176,
   "id": "896e39f3",
   "metadata": {},
   "outputs": [],
   "source": [
    "rgen = np.random.RandomState(47)\n",
    "\n",
    "x1 = rgen.normal(loc=80.0,scale=10.0, size= 42)\n",
    "y1 = rgen.normal(loc=50.0,scale=18.0, size= 42)\n",
    "\n",
    "x2 = rgen.normal(loc=30.0,scale=8.0, size= 42)\n",
    "y2 = rgen.normal(loc=30.0,scale=8.0, size= 42)\n",
    "k1 = np.array([x1, y1])\n",
    "k2 = np.array([x2, y2])\n"
   ]
  },
  {
   "cell_type": "code",
   "execution_count": 177,
   "id": "6b675492",
   "metadata": {},
   "outputs": [
    {
     "data": {
      "image/png": "[encoded data removed]",
      "text/plain": [
       "<Figure size 432x288 with 1 Axes>"
      ]
     },
     "metadata": {
      "needs_background": "light"
     },
     "output_type": "display_data"
    }
   ],
   "source": [
    "plt.scatter(k1[0], k1[1],  color='red', marker='*', label='class 1')\n",
    "plt.scatter(k2[0], k2[1],  color='green', marker='+', label='class 2')\n",
    "#plt.axis('off')\n",
    "plt.show()\n"
   ]
  },
  {
   "cell_type": "code",
   "execution_count": 154,
   "id": "6ede4b9b",
   "metadata": {},
   "outputs": [],
   "source": [
    "class Perceptron:\n",
    "    def __init__(self, eta=0.01, n_iter=50, random_state=1):\n",
    "        self.eta = eta\n",
    "        self.n_iter = n_iter\n",
    "        self.random_state = random_state\n",
    "    \n",
    "    def fit(self, X, y):\n",
    "        rgen = np.random.RandomState(self.random_state)\n",
    "        self.w_ = rgen.normal(loc=0.0,scale=0.01, size= 1 + X.shape[1])\n",
    "        \n",
    "        self.errors_ = []\n",
    "        \n",
    "        for _ in range(self.n_iter):\n",
    "            errors = 0\n",
    "            for xi, target in zip(X,y):\n",
    "                update = self.eta * (target - self.predict(xi))\n",
    "                \n",
    "                self.w_[1:] = update * xi\n",
    "                self.w_[0] -= update \n",
    "                \n",
    "                errors += int( update != 0.0)\n",
    "                \n",
    "            self.errors_.append(errors)\n",
    "    def net_input(self, X):\n",
    "        return np.dot(X, self.w_[1:]) + self.w_[0] # w_[0] нейрон смещения\n",
    "    \n",
    "    def predict(self, X):\n",
    "        return np.where(self.net_input(X) >= 0, 1, -1)"
   ]
  },
  {
   "cell_type": "code",
   "execution_count": 89,
   "id": "eeeda3e7",
   "metadata": {
    "scrolled": true
   },
   "outputs": [
    {
     "name": "stdout",
     "output_type": "stream",
     "text": [
      "[[71.51990524 93.05906358 89.24207966 86.40411801 69.45263017 97.97760715\n",
      "  69.8721325  88.23623324 77.05349647 74.07529428 66.06272941 91.04179672\n",
      "  70.67659714 70.56843563 84.36606232 87.9495827  87.19533153 80.87662257\n",
      "  66.77251594 80.51793979 61.65204742 83.27496473 84.76237234 81.68428646\n",
      "  71.37588669 89.07444498 84.22889373 57.87571047 63.45794259 83.21375264\n",
      "  75.37325646 69.19249795 76.8622586  69.82148113 84.994227   79.70053759\n",
      "  80.47090105 68.29141238 60.87472709 82.7154222  83.22065299 68.68999841]\n",
      " [52.84150052 33.43284399 36.57362218 46.32416439 85.39492679 64.82023002\n",
      "  30.96528835 59.91888859 54.9342185  56.61133636 53.52600802 47.95648329\n",
      "  12.3993129  33.08963813 54.96525292 57.69692343 57.50143398 55.43157045\n",
      "  15.50005225 46.75869388 72.85359438  3.63771117 60.03835184 93.00237616\n",
      "  51.13440969 55.31372365 66.95229264 49.50414448 68.37677792  9.57108441\n",
      "  42.66994121 89.45082623 86.12775932 75.72464945 69.60939752 35.83272311\n",
      "  48.63342648 70.76812639 56.99739108 65.79108382 75.03992629 54.21789897]]\n",
      "[[71.51990524 52.84150052]\n",
      " [93.05906358 33.43284399]\n",
      " [89.24207966 36.57362218]\n",
      " [86.40411801 46.32416439]\n",
      " [69.45263017 85.39492679]\n",
      " [97.97760715 64.82023002]\n",
      " [69.8721325  30.96528835]\n",
      " [88.23623324 59.91888859]\n",
      " [77.05349647 54.9342185 ]\n",
      " [74.07529428 56.61133636]\n",
      " [66.06272941 53.52600802]\n",
      " [91.04179672 47.95648329]\n",
      " [70.67659714 12.3993129 ]\n",
      " [70.56843563 33.08963813]\n",
      " [84.36606232 54.96525292]\n",
      " [87.9495827  57.69692343]\n",
      " [87.19533153 57.50143398]\n",
      " [80.87662257 55.43157045]\n",
      " [66.77251594 15.50005225]\n",
      " [80.51793979 46.75869388]\n",
      " [61.65204742 72.85359438]\n",
      " [83.27496473  3.63771117]\n",
      " [84.76237234 60.03835184]\n",
      " [81.68428646 93.00237616]\n",
      " [71.37588669 51.13440969]\n",
      " [89.07444498 55.31372365]\n",
      " [84.22889373 66.95229264]\n",
      " [57.87571047 49.50414448]\n",
      " [63.45794259 68.37677792]\n",
      " [83.21375264  9.57108441]\n",
      " [75.37325646 42.66994121]\n",
      " [69.19249795 89.45082623]\n",
      " [76.8622586  86.12775932]\n",
      " [69.82148113 75.72464945]\n",
      " [84.994227   69.60939752]\n",
      " [79.70053759 35.83272311]\n",
      " [80.47090105 48.63342648]\n",
      " [68.29141238 70.76812639]\n",
      " [60.87472709 56.99739108]\n",
      " [82.7154222  65.79108382]\n",
      " [83.22065299 75.03992629]\n",
      " [68.68999841 54.21789897]]\n"
     ]
    },
    {
     "data": {
      "text/plain": [
       "(42, 2)"
      ]
     },
     "execution_count": 89,
     "metadata": {},
     "output_type": "execute_result"
    }
   ],
   "source": [
    "print(k1)\n",
    "print(k1.T)\n",
    "k1.T.shape"
   ]
  },
  {
   "cell_type": "code",
   "execution_count": 178,
   "id": "ea3fd262",
   "metadata": {},
   "outputs": [],
   "source": [
    "k1 = k1.T\n",
    "k2 = k2.T"
   ]
  },
  {
   "cell_type": "code",
   "execution_count": 179,
   "id": "5f6fb7c2",
   "metadata": {},
   "outputs": [],
   "source": [
    "\n",
    "X = np.zeros( (84,2) )\n",
    "X[:42] = k1\n",
    "X[42:] = k2\n",
    "X /= 100 "
   ]
  },
  {
   "cell_type": "code",
   "execution_count": 180,
   "id": "fb161bcd",
   "metadata": {},
   "outputs": [
    {
     "data": {
      "text/plain": [
       "array([-1, -1, -1, -1, -1, -1, -1, -1, -1, -1, -1, -1, -1, -1, -1, -1, -1,\n",
       "       -1, -1, -1, -1, -1, -1, -1, -1, -1, -1, -1, -1, -1, -1, -1, -1, -1,\n",
       "       -1, -1, -1, -1, -1, -1, -1, -1,  1,  1,  1,  1,  1,  1,  1,  1,  1,\n",
       "        1,  1,  1,  1,  1,  1,  1,  1,  1,  1,  1,  1,  1,  1,  1,  1,  1,\n",
       "        1,  1,  1,  1,  1,  1,  1,  1,  1,  1,  1,  1,  1,  1,  1,  1])"
      ]
     },
     "execution_count": 180,
     "metadata": {},
     "output_type": "execute_result"
    }
   ],
   "source": [
    "y = np.ones( (84), dtype=int )\n",
    "y[:42] = -1\n",
    "y"
   ]
  },
  {
   "cell_type": "code",
   "execution_count": 181,
   "id": "8b8a25d1",
   "metadata": {
    "scrolled": true
   },
   "outputs": [
    {
     "data": {
      "text/plain": [
       "(84, 2)"
      ]
     },
     "execution_count": 181,
     "metadata": {},
     "output_type": "execute_result"
    }
   ],
   "source": [
    "X.shape"
   ]
  },
  {
   "cell_type": "code",
   "execution_count": 183,
   "id": "e40a27df",
   "metadata": {},
   "outputs": [],
   "source": [
    "rgen = np.random.RandomState(1)\n",
    "rgen.shuffle(X)\n",
    "rgen.shuffle(y)\n"
   ]
  },
  {
   "cell_type": "code",
   "execution_count": 184,
   "id": "7804bce0",
   "metadata": {},
   "outputs": [],
   "source": [
    "ppn = Perceptron( eta=0.1, n_iter=5, random_state=1)\n",
    "ppn.fit(X,y)\n",
    "\n"
   ]
  },
  {
   "cell_type": "code",
   "execution_count": 185,
   "id": "acb224ef",
   "metadata": {},
   "outputs": [
    {
     "data": {
      "image/png": "[encoded data removed]",
      "text/plain": [
       "<Figure size 432x288 with 1 Axes>"
      ]
     },
     "metadata": {
      "needs_background": "light"
     },
     "output_type": "display_data"
    }
   ],
   "source": [
    "plt.plot(range(1, len(ppn.errors_)+ 1), ppn.errors_ )\n",
    "plt.show()"
   ]
  },
  {
   "cell_type": "code",
   "execution_count": 186,
   "id": "ea83bec5",
   "metadata": {},
   "outputs": [
    {
     "data": {
      "image/png": "[encoded data removed]",
      "text/plain": [
       "<Figure size 432x288 with 1 Axes>"
      ]
     },
     "metadata": {
      "needs_background": "light"
     },
     "output_type": "display_data"
    }
   ],
   "source": [
    "x1_min, x1_max = 0,100\n",
    "x2_min, x2_max = 0,100\n",
    "resol = 0.01\n",
    "\n",
    "cmap = ListedColormap(['red', 'blue'])\n",
    "\n",
    "xx1, xx2 = np.meshgrid(\n",
    "                       np.arange(x1_min, x1_max, resol), \n",
    "                       np.arange(x2_min, x2_max, resol) \n",
    "                      )\n",
    "Z = ppn.predict(\n",
    "                np.array([xx1.ravel(), xx2.ravel()] ).T\n",
    "                )\n",
    "Z = Z.reshape(xx1.shape)\n",
    "\n",
    "plt.contourf( xx1, xx2, Z, alpha=0.3, cmap=cmap )\n",
    "plt.scatter(k1[0], k1[1],  color='red', marker='*', label='class 1')\n",
    "plt.scatter(k2[0], k2[1],  color='green', marker='+', label='class 2')\n",
    "#plt.axis('off')\n",
    "plt.show()"
   ]
  },
  {
   "cell_type": "code",
   "execution_count": null,
   "id": "3993739c",
   "metadata": {},
   "outputs": [],
   "source": []
  }
 ],
 "metadata": {
  "kernelspec": {
   "display_name": "Python 3 (ipykernel)",
   "language": "python",
   "name": "python3"
  },
  "language_info": {
   "codemirror_mode": {
    "name": "ipython",
    "version": 3
   },
   "file_extension": ".py",
   "mimetype": "text/x-python",
   "name": "python",
   "nbconvert_exporter": "python",
   "pygments_lexer": "ipython3",
   "version": "3.10.2"
  }
 },
 "nbformat": 4,
 "nbformat_minor": 5
}
