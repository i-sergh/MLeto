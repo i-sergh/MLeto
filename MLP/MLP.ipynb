{
 "cells": [
  {
   "cell_type": "code",
   "execution_count": 101,
   "id": "82ef5da9",
   "metadata": {},
   "outputs": [],
   "source": [
    "import numpy as np # добавляет массивы и математику\n",
    "import sys \n",
    "\n",
    "import time\n",
    "\n",
    "from matplotlib import pyplot as plt # для графиков"
   ]
  },
  {
   "cell_type": "code",
   "execution_count": 102,
   "id": "c2613afc",
   "metadata": {},
   "outputs": [],
   "source": [
    "import cv2"
   ]
  },
  {
   "cell_type": "code",
   "execution_count": 20,
   "id": "2af725a1",
   "metadata": {},
   "outputs": [
    {
     "name": "stdout",
     "output_type": "stream",
     "text": [
      "1214590843366 1.8640351295471191\n"
     ]
    }
   ],
   "source": [
    "last = time.time()\n",
    "\n",
    "\n",
    "mul = 0\n",
    "for ai, bi in zip(a, b):\n",
    "    mul+= ai* bi \n",
    "\n",
    "print(mul ,time.time() - last)    "
   ]
  },
  {
   "cell_type": "code",
   "execution_count": 21,
   "id": "f8182081",
   "metadata": {},
   "outputs": [
    {
     "name": "stdout",
     "output_type": "stream",
     "text": [
      "-884901402 1.671391248703003\n"
     ]
    }
   ],
   "source": [
    "last = time.time()\n",
    "\n",
    "ma = np.array(a)\n",
    "mb = np.array(b)\n",
    "\n",
    "mul = np.dot(ma, mb)\n",
    "print(mul ,time.time() - last)   "
   ]
  },
  {
   "cell_type": "code",
   "execution_count": 109,
   "id": "a2ce8ae6",
   "metadata": {},
   "outputs": [],
   "source": [
    "class MLP:\n",
    "    def __init__ (self, n_hidden=30, l2=0, epohs=100, eta = 0.001, shuffle=True, minibranch_size=1, seed=42):\n",
    "        self.random = np.random.RandomState(seed)\n",
    "        self.n_hidden = n_hidden\n",
    "        self.l2 = l2 \n",
    "        self.epohs = epohs\n",
    "        self.eta = eta\n",
    "        self.shuffle = shuffle\n",
    "        self.minebranch_size = minibranch_size\n",
    "    \n",
    "    def _onehot (self, y, n_classes):\n",
    "        onehot = np.zeros( (n_classes, y.shape[0] ) )\n",
    "        \n",
    "        for idx, val in enumerate(y.astype(int)):\n",
    "            onehot[val, idx] = 1\n",
    "        \n",
    "        return onehot.T\n",
    "    \n",
    "    def _sigmoid(self, z):\n",
    "        return 1./(1. + np.exp(-np.clip(z, -250, 250)))\n",
    "    \n",
    "    def _forward(self, X):\n",
    "        # гигасумма для скрытого слоя\n",
    "        z_h = np.dot(X, self.w_h) + self.b_h\n",
    "        # активация\n",
    "        a_h = self._sigmoid(z_h)\n",
    "        # гигасумма для слоя dsвыходного\n",
    "        z_out = np.dot(a_h, self.w_out ) + self.b_out\n",
    "        # активация активация выходного слоя\n",
    "        a_out = self._sigmoid(z_out)\n",
    "        \n",
    "        return z_h, a_h, z_out, a_out\n",
    "    \n",
    "    def _compute_cost (self, y_enc, output):\n",
    "        L2_term = (self.l2 * (np.sum(self.w_h ** 2) + np.sum(self.w_out ** 2) ) )\n",
    "        \n",
    "        term1 = -y_enc * (np.log(output))\n",
    "        term2 = (1 - y_enc) * np.log(1 - output)\n",
    "        \n",
    "        cost = np.sum(term1 - term2) + L2_term \n",
    "        return cost"
   ]
  },
  {
   "cell_type": "code",
   "execution_count": 99,
   "id": "4ab797b5",
   "metadata": {},
   "outputs": [],
   "source": [
    "mlp = MLP()\n",
    "mlp2 = MLP()"
   ]
  },
  {
   "cell_type": "code",
   "execution_count": 107,
   "id": "77ab1c15",
   "metadata": {},
   "outputs": [
    {
     "ename": "SyntaxError",
     "evalue": "invalid syntax (1382138201.py, line 1)",
     "output_type": "error",
     "traceback": [
      "\u001b[1;36m  Input \u001b[1;32mIn [107]\u001b[1;36m\u001b[0m\n\u001b[1;33m    &#128783;\u001b[0m\n\u001b[1;37m    ^\u001b[0m\n\u001b[1;31mSyntaxError\u001b[0m\u001b[1;31m:\u001b[0m invalid syntax\n"
     ]
    }
   ],
   "source": []
  },
  {
   "cell_type": "code",
   "execution_count": 90,
   "id": "44a5d054",
   "metadata": {},
   "outputs": [
    {
     "data": {
      "text/plain": [
       "array([1, 2, 3])"
      ]
     },
     "execution_count": 90,
     "metadata": {},
     "output_type": "execute_result"
    }
   ],
   "source": [
    "np.clip(a, 1, 3)"
   ]
  },
  {
   "cell_type": "code",
   "execution_count": null,
   "id": "0dc3bddf",
   "metadata": {},
   "outputs": [],
   "source": []
  },
  {
   "cell_type": "code",
   "execution_count": null,
   "id": "629368a6",
   "metadata": {},
   "outputs": [],
   "source": []
  }
 ],
 "metadata": {
  "kernelspec": {
   "display_name": "Python 3 (ipykernel)",
   "language": "python",
   "name": "python3"
  },
  "language_info": {
   "codemirror_mode": {
    "name": "ipython",
    "version": 3
   },
   "file_extension": ".py",
   "mimetype": "text/x-python",
   "name": "python",
   "nbconvert_exporter": "python",
   "pygments_lexer": "ipython3",
   "version": "3.10.2"
  }
 },
 "nbformat": 4,
 "nbformat_minor": 5
}
