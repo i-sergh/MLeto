{
 "cells": [
  {
   "cell_type": "code",
   "execution_count": 1,
   "id": "53a12711",
   "metadata": {},
   "outputs": [],
   "source": [
    "import numpy as np\n",
    "import matplotlib.pyplot as plt\n",
    "from mpl_toolkits.mplot3d import Axes3D"
   ]
  },
  {
   "cell_type": "code",
   "execution_count": 8,
   "id": "f85e5744",
   "metadata": {},
   "outputs": [
    {
     "data": {
      "text/plain": [
       "[<matplotlib.lines.Line2D at 0x18e3a90a3e0>]"
      ]
     },
     "execution_count": 8,
     "metadata": {},
     "output_type": "execute_result"
    },
    {
     "data": {
      "image/png": "[encoded data removed]",
      "text/plain": [
       "<Figure size 432x288 with 1 Axes>"
      ]
     },
     "metadata": {
      "needs_background": "light"
     },
     "output_type": "display_data"
    }
   ],
   "source": [
    "\n",
    "\n",
    "x = [ 1, 2 ,3 , 4, 5, 6]\n",
    "y = [x_**2 for x_ in x ]\n",
    "x1 = [ 1,2, 5,6 ]\n",
    "\n",
    "y1 = [1,4, 25, 36]\n",
    "\n",
    "x2 = [3, 4]\n",
    "y2 = [9, 16]\n",
    "\n",
    "plt.scatter(x1 , y1, marker='o')\n",
    "plt.scatter(x2 , y2, marker='x')\n",
    "\n",
    "\n",
    "plt.plot(x, y, marker='*', alpha=0.3)"
   ]
  },
  {
   "cell_type": "code",
   "execution_count": null,
   "id": "11cb087e",
   "metadata": {},
   "outputs": [],
   "source": [
    "x = [1, 2]\n",
    "y = [3, 4]\n",
    "\n",
    "plt.scatter(x1 , y1, marker='o')\n",
    "plt.scatter(x2 , y2, marker='x')\n"
   ]
  }
 ],
 "metadata": {
  "kernelspec": {
   "display_name": "Python 3 (ipykernel)",
   "language": "python",
   "name": "python3"
  },
  "language_info": {
   "codemirror_mode": {
    "name": "ipython",
    "version": 3
   },
   "file_extension": ".py",
   "mimetype": "text/x-python",
   "name": "python",
   "nbconvert_exporter": "python",
   "pygments_lexer": "ipython3",
   "version": "3.10.2"
  }
 },
 "nbformat": 4,
 "nbformat_minor": 5
}
